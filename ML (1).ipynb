{
 "cells": [
  {
   "cell_type": "code",
   "execution_count": 1,
   "id": "b8397cf4",
   "metadata": {},
   "outputs": [],
   "source": [
    "import pandas as pd\n",
    "import numpy as np\n",
    "import scipy as sc\n",
    "import matplotlib.pyplot as plt\n",
    "import seaborn as sns\n",
    "import sklearn\n",
    "sns.set(rc={'figure.figsize':(11.7,8.27)})\n",
    "sns.set_theme(style = \"ticks\")"
   ]
  },
  {
   "cell_type": "markdown",
   "id": "c279076c",
   "metadata": {},
   "source": [
    "# Introduction"
   ]
  },
  {
   "cell_type": "markdown",
   "id": "c5877c8b",
   "metadata": {},
   "source": [
    "In this research project I am investigating a Dataset from https://www.kaggle.com/datasets/shubhambathwal/flight-price-prediction.\n",
    "\n",
    "According to the source, the data was obtained by using Octoparse scraping tool to extract data from the website. Data was collected in two parts: one for economy class tickets and another for business class tickets. A total of 300261 distinct flight booking options was extracted from the site. Data was collected for 50 days, from February 11th to March 31st, 2022. Data source was secondary data and was collected from Ease my trip website.\n",
    "\n",
    "The description of the features of the dataset is below:\n",
    "\n",
    "The various features of the cleaned dataset are explained below:\n",
    "\n",
    "1) Airline: The name of the airline company is stored in the airline column. It is a categorical feature having 6 different airlines.\n",
    "\n",
    "2) Flight: Flight stores information regarding the plane's flight code. It is a categorical feature.\n",
    "\n",
    "3) Source City: City from which the flight takes off. It is a categorical feature having 6 unique cities.\n",
    "\n",
    "4) Departure Time: This is a derived categorical feature obtained created by grouping time periods into bins. It stores information about the departure time and have 6 unique time labels.\n",
    "\n",
    "5) Stops: A categorical feature with 3 distinct values that stores the number of stops between the source and destination cities.\n",
    "\n",
    "6) Arrival Time: This is a derived categorical feature created by grouping time intervals into bins. It has six distinct time labels and keeps information about the arrival time.\n",
    "\n",
    "7) Destination City: City where the flight will land. It is a categorical feature having 6 unique cities.\n",
    "\n",
    "8) Class: A categorical feature that contains information on seat class; it has two distinct values: Business and Economy.\n",
    "\n",
    "9) Duration: A continuous feature that displays the overall amount of time it takes to travel between cities in hours.\n",
    "\n",
    "10) Days Left: This is a derived characteristic that is calculated by subtracting the trip date by the booking date.\n",
    "\n",
    "11) Price: Target variable stores information of the ticket price.\n",
    "\n",
    "I have chosen this dataset, since I had a personal interest, on how price of the ticket is affected by various conditions. I could not find a dataset from Kazakhstan myself, thus I will investigate this data set\n",
    "\n",
    "In this part of my project I am choosing as a target value \"price\" and I will predict it using following models: Linear Regression, Polynomial Regression, Random Forests"
   ]
  },
  {
   "cell_type": "markdown",
   "id": "9eaca93a",
   "metadata": {},
   "source": [
    "# Data Preprocessing"
   ]
  },
  {
   "cell_type": "code",
   "execution_count": 2,
   "id": "ed337e1f",
   "metadata": {},
   "outputs": [],
   "source": [
    "df = pd.read_csv(\"Clean_Dataset.csv\")\n",
    "df.drop(\"Unnamed: 0\",axis = 1, inplace = True)\n",
    "df[\"stops\"] = df[\"stops\"].map({\"zero\":0,\n",
    "                              \"one\":1,\n",
    "                              \"two_or_more\":2})\n",
    "df[\"class\"]=df[\"class\"].map({\"Economy\": 0,\n",
    "                            \"Business\": 1})"
   ]
  },
  {
   "cell_type": "code",
   "execution_count": 3,
   "id": "8efeaf03",
   "metadata": {},
   "outputs": [
    {
     "data": {
      "text/html": [
       "<div>\n",
       "<style scoped>\n",
       "    .dataframe tbody tr th:only-of-type {\n",
       "        vertical-align: middle;\n",
       "    }\n",
       "\n",
       "    .dataframe tbody tr th {\n",
       "        vertical-align: top;\n",
       "    }\n",
       "\n",
       "    .dataframe thead th {\n",
       "        text-align: right;\n",
       "    }\n",
       "</style>\n",
       "<table border=\"1\" class=\"dataframe\">\n",
       "  <thead>\n",
       "    <tr style=\"text-align: right;\">\n",
       "      <th></th>\n",
       "      <th>airline</th>\n",
       "      <th>flight</th>\n",
       "      <th>source_city</th>\n",
       "      <th>departure_time</th>\n",
       "      <th>stops</th>\n",
       "      <th>arrival_time</th>\n",
       "      <th>destination_city</th>\n",
       "      <th>class</th>\n",
       "      <th>duration</th>\n",
       "      <th>days_left</th>\n",
       "      <th>price</th>\n",
       "    </tr>\n",
       "  </thead>\n",
       "  <tbody>\n",
       "    <tr>\n",
       "      <th>0</th>\n",
       "      <td>SpiceJet</td>\n",
       "      <td>SG-8709</td>\n",
       "      <td>Delhi</td>\n",
       "      <td>Evening</td>\n",
       "      <td>0</td>\n",
       "      <td>Night</td>\n",
       "      <td>Mumbai</td>\n",
       "      <td>0</td>\n",
       "      <td>2.17</td>\n",
       "      <td>1</td>\n",
       "      <td>5953</td>\n",
       "    </tr>\n",
       "    <tr>\n",
       "      <th>1</th>\n",
       "      <td>SpiceJet</td>\n",
       "      <td>SG-8157</td>\n",
       "      <td>Delhi</td>\n",
       "      <td>Early_Morning</td>\n",
       "      <td>0</td>\n",
       "      <td>Morning</td>\n",
       "      <td>Mumbai</td>\n",
       "      <td>0</td>\n",
       "      <td>2.33</td>\n",
       "      <td>1</td>\n",
       "      <td>5953</td>\n",
       "    </tr>\n",
       "    <tr>\n",
       "      <th>2</th>\n",
       "      <td>AirAsia</td>\n",
       "      <td>I5-764</td>\n",
       "      <td>Delhi</td>\n",
       "      <td>Early_Morning</td>\n",
       "      <td>0</td>\n",
       "      <td>Early_Morning</td>\n",
       "      <td>Mumbai</td>\n",
       "      <td>0</td>\n",
       "      <td>2.17</td>\n",
       "      <td>1</td>\n",
       "      <td>5956</td>\n",
       "    </tr>\n",
       "    <tr>\n",
       "      <th>3</th>\n",
       "      <td>Vistara</td>\n",
       "      <td>UK-995</td>\n",
       "      <td>Delhi</td>\n",
       "      <td>Morning</td>\n",
       "      <td>0</td>\n",
       "      <td>Afternoon</td>\n",
       "      <td>Mumbai</td>\n",
       "      <td>0</td>\n",
       "      <td>2.25</td>\n",
       "      <td>1</td>\n",
       "      <td>5955</td>\n",
       "    </tr>\n",
       "    <tr>\n",
       "      <th>4</th>\n",
       "      <td>Vistara</td>\n",
       "      <td>UK-963</td>\n",
       "      <td>Delhi</td>\n",
       "      <td>Morning</td>\n",
       "      <td>0</td>\n",
       "      <td>Morning</td>\n",
       "      <td>Mumbai</td>\n",
       "      <td>0</td>\n",
       "      <td>2.33</td>\n",
       "      <td>1</td>\n",
       "      <td>5955</td>\n",
       "    </tr>\n",
       "  </tbody>\n",
       "</table>\n",
       "</div>"
      ],
      "text/plain": [
       "    airline   flight source_city departure_time  stops   arrival_time  \\\n",
       "0  SpiceJet  SG-8709       Delhi        Evening      0          Night   \n",
       "1  SpiceJet  SG-8157       Delhi  Early_Morning      0        Morning   \n",
       "2   AirAsia   I5-764       Delhi  Early_Morning      0  Early_Morning   \n",
       "3   Vistara   UK-995       Delhi        Morning      0      Afternoon   \n",
       "4   Vistara   UK-963       Delhi        Morning      0        Morning   \n",
       "\n",
       "  destination_city  class  duration  days_left  price  \n",
       "0           Mumbai      0      2.17          1   5953  \n",
       "1           Mumbai      0      2.33          1   5953  \n",
       "2           Mumbai      0      2.17          1   5956  \n",
       "3           Mumbai      0      2.25          1   5955  \n",
       "4           Mumbai      0      2.33          1   5955  "
      ]
     },
     "execution_count": 3,
     "metadata": {},
     "output_type": "execute_result"
    }
   ],
   "source": [
    "df.head()"
   ]
  },
  {
   "cell_type": "markdown",
   "id": "679a05db",
   "metadata": {},
   "source": [
    "### Dropping multicollinear variables"
   ]
  },
  {
   "cell_type": "code",
   "execution_count": 506,
   "id": "be555d93",
   "metadata": {
    "scrolled": true
   },
   "outputs": [
    {
     "data": {
      "text/html": [
       "<div>\n",
       "<style scoped>\n",
       "    .dataframe tbody tr th:only-of-type {\n",
       "        vertical-align: middle;\n",
       "    }\n",
       "\n",
       "    .dataframe tbody tr th {\n",
       "        vertical-align: top;\n",
       "    }\n",
       "\n",
       "    .dataframe thead th {\n",
       "        text-align: right;\n",
       "    }\n",
       "</style>\n",
       "<table border=\"1\" class=\"dataframe\">\n",
       "  <thead>\n",
       "    <tr style=\"text-align: right;\">\n",
       "      <th></th>\n",
       "      <th>VIF</th>\n",
       "      <th>features</th>\n",
       "    </tr>\n",
       "  </thead>\n",
       "  <tbody>\n",
       "    <tr>\n",
       "      <th>0</th>\n",
       "      <td>6.613241</td>\n",
       "      <td>stops</td>\n",
       "    </tr>\n",
       "    <tr>\n",
       "      <th>1</th>\n",
       "      <td>1.843926</td>\n",
       "      <td>departure_time_Early_Morning</td>\n",
       "    </tr>\n",
       "    <tr>\n",
       "      <th>2</th>\n",
       "      <td>1.870681</td>\n",
       "      <td>departure_time_Evening</td>\n",
       "    </tr>\n",
       "    <tr>\n",
       "      <th>3</th>\n",
       "      <td>1.013895</td>\n",
       "      <td>departure_time_Late_Night</td>\n",
       "    </tr>\n",
       "    <tr>\n",
       "      <th>4</th>\n",
       "      <td>1.914677</td>\n",
       "      <td>departure_time_Morning</td>\n",
       "    </tr>\n",
       "    <tr>\n",
       "      <th>5</th>\n",
       "      <td>1.663872</td>\n",
       "      <td>departure_time_Night</td>\n",
       "    </tr>\n",
       "    <tr>\n",
       "      <th>6</th>\n",
       "      <td>5.250487</td>\n",
       "      <td>duration</td>\n",
       "    </tr>\n",
       "    <tr>\n",
       "      <th>7</th>\n",
       "      <td>3.564371</td>\n",
       "      <td>days_left</td>\n",
       "    </tr>\n",
       "  </tbody>\n",
       "</table>\n",
       "</div>"
      ],
      "text/plain": [
       "        VIF                      features\n",
       "0  6.613241                         stops\n",
       "1  1.843926  departure_time_Early_Morning\n",
       "2  1.870681        departure_time_Evening\n",
       "3  1.013895     departure_time_Late_Night\n",
       "4  1.914677        departure_time_Morning\n",
       "5  1.663872          departure_time_Night\n",
       "6  5.250487                      duration\n",
       "7  3.564371                     days_left"
      ]
     },
     "metadata": {},
     "output_type": "display_data"
    },
    {
     "data": {
      "text/html": [
       "<div>\n",
       "<style scoped>\n",
       "    .dataframe tbody tr th:only-of-type {\n",
       "        vertical-align: middle;\n",
       "    }\n",
       "\n",
       "    .dataframe tbody tr th {\n",
       "        vertical-align: top;\n",
       "    }\n",
       "\n",
       "    .dataframe thead th {\n",
       "        text-align: right;\n",
       "    }\n",
       "</style>\n",
       "<table border=\"1\" class=\"dataframe\">\n",
       "  <thead>\n",
       "    <tr style=\"text-align: right;\">\n",
       "      <th></th>\n",
       "      <th>VIF2</th>\n",
       "      <th>features</th>\n",
       "    </tr>\n",
       "  </thead>\n",
       "  <tbody>\n",
       "    <tr>\n",
       "      <th>0</th>\n",
       "      <td>1.740195</td>\n",
       "      <td>departure_time_Early_Morning</td>\n",
       "    </tr>\n",
       "    <tr>\n",
       "      <th>1</th>\n",
       "      <td>1.838916</td>\n",
       "      <td>departure_time_Evening</td>\n",
       "    </tr>\n",
       "    <tr>\n",
       "      <th>2</th>\n",
       "      <td>1.012805</td>\n",
       "      <td>departure_time_Late_Night</td>\n",
       "    </tr>\n",
       "    <tr>\n",
       "      <th>3</th>\n",
       "      <td>1.766223</td>\n",
       "      <td>departure_time_Morning</td>\n",
       "    </tr>\n",
       "    <tr>\n",
       "      <th>4</th>\n",
       "      <td>1.652066</td>\n",
       "      <td>departure_time_Night</td>\n",
       "    </tr>\n",
       "    <tr>\n",
       "      <th>5</th>\n",
       "      <td>3.211049</td>\n",
       "      <td>duration</td>\n",
       "    </tr>\n",
       "    <tr>\n",
       "      <th>6</th>\n",
       "      <td>3.207548</td>\n",
       "      <td>days_left</td>\n",
       "    </tr>\n",
       "  </tbody>\n",
       "</table>\n",
       "</div>"
      ],
      "text/plain": [
       "       VIF2                      features\n",
       "0  1.740195  departure_time_Early_Morning\n",
       "1  1.838916        departure_time_Evening\n",
       "2  1.012805     departure_time_Late_Night\n",
       "3  1.766223        departure_time_Morning\n",
       "4  1.652066          departure_time_Night\n",
       "5  3.211049                      duration\n",
       "6  3.207548                     days_left"
      ]
     },
     "metadata": {},
     "output_type": "display_data"
    }
   ],
   "source": [
    "def check_multicollinearity(df):\n",
    "    from statsmodels.stats.outliers_influence import variance_inflation_factor\n",
    "    variables = df[['stops','departure_time_Early_Morning',\n",
    "       'departure_time_Evening', 'departure_time_Late_Night',\n",
    "       'departure_time_Morning', 'departure_time_Night', 'duration','days_left']]\n",
    "    variables2 = df[['departure_time_Early_Morning',\n",
    "       'departure_time_Evening', 'departure_time_Late_Night',\n",
    "       'departure_time_Morning', 'departure_time_Night', 'duration','days_left']]\n",
    "    vif = pd.DataFrame()\n",
    "    vif[\"VIF\"] = [variance_inflation_factor(variables.values, i) for i in range(variables.shape[1])]\n",
    "    vif[\"features\"] = variables.columns\n",
    "    vif2 = pd.DataFrame()\n",
    "    vif2[\"VIF2\"] = [variance_inflation_factor(variables2.values, i) for i in range(variables2.shape[1])]\n",
    "    vif2[\"features\"] = variables2.columns\n",
    "    display(vif)\n",
    "    display(vif2)\n",
    "    \n",
    "check_multicollinearity(pd.get_dummies(df))\n",
    "## This function checks multicollinearity within the variables.\n",
    "## Especially, I wanted to check, if there is any relation between \"stops\" variable and others.\n",
    "## Also, I wanted to check whether departure time is correleated with duration of flight and days left, since by my \n",
    "## intuition, departure time is also a variable which affects flight price, and I want to use it in the regression"
   ]
  },
  {
   "cell_type": "markdown",
   "id": "9adc40e2",
   "metadata": {},
   "source": [
    "Here we can see, that \"stops\" is correlated to some variables, since it has Variance Inflation Factor bigger than 5. Thus I will not include \"stops\" in my models. Also, I will drop arrival time, since there should be correlation between \"departure time\" \"duration\" and \"arrival time\", as \"arrival time\" results from \"departure time\" + \"duration\". Thus, \"arrival time\" variable will be dropped from the dataset, and will not be used in my models."
   ]
  },
  {
   "cell_type": "code",
   "execution_count": 507,
   "id": "71416b34",
   "metadata": {},
   "outputs": [],
   "source": [
    "cols_drop = ['flight', 'source_city', 'arrival_time','destination_city','stops']\n",
    "df = df.drop(cols_drop,axis = 1)"
   ]
  },
  {
   "cell_type": "markdown",
   "id": "c763e51e",
   "metadata": {},
   "source": [
    "### Log transform of variables"
   ]
  },
  {
   "cell_type": "code",
   "execution_count": 508,
   "id": "b221e618",
   "metadata": {},
   "outputs": [
    {
     "data": {
      "text/plain": [
       "Text(0.5, 1.0, 'Log Price')"
      ]
     },
     "execution_count": 508,
     "metadata": {},
     "output_type": "execute_result"
    },
    {
     "data": {
      "image/png": "[encoded data removed]",
      "text/plain": [
       "<Figure size 842.4x595.44 with 2 Axes>"
      ]
     },
     "metadata": {},
     "output_type": "display_data"
    }
   ],
   "source": [
    "fig,axes = plt.subplots(1,2,sharey = True) \n",
    "sns.histplot(df[\"price\"],ax = axes[0]).set_title(\"Price\")\n",
    "sns.histplot(np.log(df[\"price\"]),ax = axes[1]).set_title(\"Log Price\")"
   ]
  },
  {
   "cell_type": "code",
   "execution_count": 509,
   "id": "b2671589",
   "metadata": {},
   "outputs": [
    {
     "data": {
      "text/plain": [
       "Text(0.5, 1.0, 'Log Duration')"
      ]
     },
     "execution_count": 509,
     "metadata": {},
     "output_type": "execute_result"
    },
    {
     "data": {
      "image/png": "[encoded data removed]",
      "text/plain": [
       "<Figure size 842.4x595.44 with 2 Axes>"
      ]
     },
     "metadata": {},
     "output_type": "display_data"
    }
   ],
   "source": [
    "fig,axes = plt.subplots(1,2,sharey = True) \n",
    "sns.histplot(df[\"duration\"],ax = axes[0]).set_title(\"Duration\")\n",
    "sns.histplot(np.log(df[\"duration\"]),ax = axes[1]).set_title(\"Log Duration\")"
   ]
  },
  {
   "cell_type": "markdown",
   "id": "0c402f7c",
   "metadata": {},
   "source": [
    "Here we can see, that we have two peeks, lower one for economy class, and higher is for business class. With log transform, their distributions look \"bell-shaped\" and thus, in my models I will use log(price)\n",
    "\n",
    "For \"duration\" variable, log transform does not really change much. Thus we will keep \"duration\" as usual."
   ]
  },
  {
   "cell_type": "code",
   "execution_count": 510,
   "id": "8506f4f5",
   "metadata": {
    "scrolled": true
   },
   "outputs": [
    {
     "data": {
      "text/html": [
       "<div>\n",
       "<style scoped>\n",
       "    .dataframe tbody tr th:only-of-type {\n",
       "        vertical-align: middle;\n",
       "    }\n",
       "\n",
       "    .dataframe tbody tr th {\n",
       "        vertical-align: top;\n",
       "    }\n",
       "\n",
       "    .dataframe thead th {\n",
       "        text-align: right;\n",
       "    }\n",
       "</style>\n",
       "<table border=\"1\" class=\"dataframe\">\n",
       "  <thead>\n",
       "    <tr style=\"text-align: right;\">\n",
       "      <th></th>\n",
       "      <th>airline</th>\n",
       "      <th>departure_time</th>\n",
       "      <th>class</th>\n",
       "      <th>duration</th>\n",
       "      <th>days_left</th>\n",
       "      <th>log_price</th>\n",
       "    </tr>\n",
       "  </thead>\n",
       "  <tbody>\n",
       "    <tr>\n",
       "      <th>0</th>\n",
       "      <td>SpiceJet</td>\n",
       "      <td>Evening</td>\n",
       "      <td>0</td>\n",
       "      <td>2.17</td>\n",
       "      <td>1</td>\n",
       "      <td>8.691651</td>\n",
       "    </tr>\n",
       "    <tr>\n",
       "      <th>1</th>\n",
       "      <td>SpiceJet</td>\n",
       "      <td>Early_Morning</td>\n",
       "      <td>0</td>\n",
       "      <td>2.33</td>\n",
       "      <td>1</td>\n",
       "      <td>8.691651</td>\n",
       "    </tr>\n",
       "    <tr>\n",
       "      <th>2</th>\n",
       "      <td>AirAsia</td>\n",
       "      <td>Early_Morning</td>\n",
       "      <td>0</td>\n",
       "      <td>2.17</td>\n",
       "      <td>1</td>\n",
       "      <td>8.692154</td>\n",
       "    </tr>\n",
       "    <tr>\n",
       "      <th>3</th>\n",
       "      <td>Vistara</td>\n",
       "      <td>Morning</td>\n",
       "      <td>0</td>\n",
       "      <td>2.25</td>\n",
       "      <td>1</td>\n",
       "      <td>8.691986</td>\n",
       "    </tr>\n",
       "    <tr>\n",
       "      <th>4</th>\n",
       "      <td>Vistara</td>\n",
       "      <td>Morning</td>\n",
       "      <td>0</td>\n",
       "      <td>2.33</td>\n",
       "      <td>1</td>\n",
       "      <td>8.691986</td>\n",
       "    </tr>\n",
       "  </tbody>\n",
       "</table>\n",
       "</div>"
      ],
      "text/plain": [
       "    airline departure_time  class  duration  days_left  log_price\n",
       "0  SpiceJet        Evening      0      2.17          1   8.691651\n",
       "1  SpiceJet  Early_Morning      0      2.33          1   8.691651\n",
       "2   AirAsia  Early_Morning      0      2.17          1   8.692154\n",
       "3   Vistara        Morning      0      2.25          1   8.691986\n",
       "4   Vistara        Morning      0      2.33          1   8.691986"
      ]
     },
     "execution_count": 510,
     "metadata": {},
     "output_type": "execute_result"
    }
   ],
   "source": [
    "log_price = np.log(df[\"price\"])\n",
    "df_with_dummies['log_price'] = log_price\n",
    "df['log_price'] = log_price\n",
    "df = df.drop(\"price\",axis = 1)\n",
    "df.head()"
   ]
  },
  {
   "cell_type": "markdown",
   "id": "e0f427f8",
   "metadata": {},
   "source": [
    "### Outlier detection"
   ]
  },
  {
   "cell_type": "code",
   "execution_count": 511,
   "id": "aaefbca2",
   "metadata": {
    "scrolled": true
   },
   "outputs": [
    {
     "data": {
      "text/plain": [
       "<AxesSubplot:>"
      ]
     },
     "execution_count": 511,
     "metadata": {},
     "output_type": "execute_result"
    },
    {
     "data": {
      "image/png": "[encoded data removed]",
      "text/plain": [
       "<Figure size 842.4x595.44 with 1 Axes>"
      ]
     },
     "metadata": {},
     "output_type": "display_data"
    }
   ],
   "source": [
    "sns.boxplot(data = df)"
   ]
  },
  {
   "cell_type": "markdown",
   "id": "512988af",
   "metadata": {},
   "source": [
    "We see that in \"duration we have several outliers with flight duration more than 30, now we want to what is the propotion of these variables."
   ]
  },
  {
   "cell_type": "code",
   "execution_count": 512,
   "id": "5676cff0",
   "metadata": {
    "scrolled": false
   },
   "outputs": [
    {
     "data": {
      "text/plain": [
       "0.007416217728958232"
      ]
     },
     "execution_count": 512,
     "metadata": {},
     "output_type": "execute_result"
    }
   ],
   "source": [
    "len(df[df[\"duration\"]>30])/len(df)"
   ]
  },
  {
   "cell_type": "markdown",
   "id": "169a7be8",
   "metadata": {},
   "source": [
    "We have 0.7% of data which are the outliers. We can safely remove them, since they could affect my models."
   ]
  },
  {
   "cell_type": "code",
   "execution_count": 513,
   "id": "b557725f",
   "metadata": {},
   "outputs": [],
   "source": [
    "df = df[df[\"duration\"]<30]\n",
    "df = df.reset_index(drop = True)"
   ]
  },
  {
   "cell_type": "code",
   "execution_count": 514,
   "id": "85a88086",
   "metadata": {
    "scrolled": true
   },
   "outputs": [
    {
     "data": {
      "text/plain": [
       "<AxesSubplot:>"
      ]
     },
     "execution_count": 514,
     "metadata": {},
     "output_type": "execute_result"
    },
    {
     "data": {
      "image/png": "[encoded data removed]",
      "text/plain": [
       "<Figure size 842.4x595.44 with 1 Axes>"
      ]
     },
     "metadata": {},
     "output_type": "display_data"
    }
   ],
   "source": [
    "sns.boxplot(data = df)"
   ]
  },
  {
   "cell_type": "markdown",
   "id": "ef4cf546",
   "metadata": {},
   "source": [
    "We have some more outliers more than ~29. We will count how many"
   ]
  },
  {
   "cell_type": "code",
   "execution_count": 515,
   "id": "15f94293",
   "metadata": {},
   "outputs": [
    {
     "data": {
      "text/plain": [
       "0.002293269941039795"
      ]
     },
     "execution_count": 515,
     "metadata": {},
     "output_type": "execute_result"
    }
   ],
   "source": [
    "len(df[df[\"duration\"]>29])/len(df)"
   ]
  },
  {
   "cell_type": "markdown",
   "id": "19f3fc39",
   "metadata": {},
   "source": [
    "The propotion is about 0.22%. We can drop them too, unless we have no outliers."
   ]
  },
  {
   "cell_type": "code",
   "execution_count": 516,
   "id": "ea2ea97f",
   "metadata": {},
   "outputs": [],
   "source": [
    "df = df[df[\"duration\"]<29]\n",
    "df = df.reset_index(drop = True)"
   ]
  },
  {
   "cell_type": "code",
   "execution_count": 517,
   "id": "dbea2832",
   "metadata": {
    "scrolled": true
   },
   "outputs": [
    {
     "data": {
      "text/plain": [
       "<AxesSubplot:>"
      ]
     },
     "execution_count": 517,
     "metadata": {},
     "output_type": "execute_result"
    },
    {
     "data": {
      "image/png": "[encoded data removed]",
      "text/plain": [
       "<Figure size 842.4x595.44 with 1 Axes>"
      ]
     },
     "metadata": {},
     "output_type": "display_data"
    }
   ],
   "source": [
    "sns.boxplot(data = df)"
   ]
  },
  {
   "cell_type": "markdown",
   "id": "892ad1e6",
   "metadata": {},
   "source": [
    "Now we may proceed further"
   ]
  },
  {
   "cell_type": "markdown",
   "id": "947c2e3e",
   "metadata": {},
   "source": [
    "### Creating Dummies"
   ]
  },
  {
   "cell_type": "code",
   "execution_count": 518,
   "id": "e7b7af49",
   "metadata": {
    "scrolled": false
   },
   "outputs": [
    {
     "data": {
      "text/html": [
       "<div>\n",
       "<style scoped>\n",
       "    .dataframe tbody tr th:only-of-type {\n",
       "        vertical-align: middle;\n",
       "    }\n",
       "\n",
       "    .dataframe tbody tr th {\n",
       "        vertical-align: top;\n",
       "    }\n",
       "\n",
       "    .dataframe thead th {\n",
       "        text-align: right;\n",
       "    }\n",
       "</style>\n",
       "<table border=\"1\" class=\"dataframe\">\n",
       "  <thead>\n",
       "    <tr style=\"text-align: right;\">\n",
       "      <th></th>\n",
       "      <th>class</th>\n",
       "      <th>duration</th>\n",
       "      <th>days_left</th>\n",
       "      <th>log_price</th>\n",
       "      <th>airline_Air_India</th>\n",
       "      <th>airline_GO_FIRST</th>\n",
       "      <th>airline_Indigo</th>\n",
       "      <th>airline_SpiceJet</th>\n",
       "      <th>airline_Vistara</th>\n",
       "      <th>departure_time_Early_Morning</th>\n",
       "      <th>departure_time_Evening</th>\n",
       "      <th>departure_time_Late_Night</th>\n",
       "      <th>departure_time_Morning</th>\n",
       "      <th>departure_time_Night</th>\n",
       "    </tr>\n",
       "  </thead>\n",
       "  <tbody>\n",
       "    <tr>\n",
       "      <th>0</th>\n",
       "      <td>0</td>\n",
       "      <td>2.17</td>\n",
       "      <td>1</td>\n",
       "      <td>8.691651</td>\n",
       "      <td>0</td>\n",
       "      <td>0</td>\n",
       "      <td>0</td>\n",
       "      <td>1</td>\n",
       "      <td>0</td>\n",
       "      <td>0</td>\n",
       "      <td>1</td>\n",
       "      <td>0</td>\n",
       "      <td>0</td>\n",
       "      <td>0</td>\n",
       "    </tr>\n",
       "    <tr>\n",
       "      <th>1</th>\n",
       "      <td>0</td>\n",
       "      <td>2.33</td>\n",
       "      <td>1</td>\n",
       "      <td>8.691651</td>\n",
       "      <td>0</td>\n",
       "      <td>0</td>\n",
       "      <td>0</td>\n",
       "      <td>1</td>\n",
       "      <td>0</td>\n",
       "      <td>1</td>\n",
       "      <td>0</td>\n",
       "      <td>0</td>\n",
       "      <td>0</td>\n",
       "      <td>0</td>\n",
       "    </tr>\n",
       "    <tr>\n",
       "      <th>2</th>\n",
       "      <td>0</td>\n",
       "      <td>2.17</td>\n",
       "      <td>1</td>\n",
       "      <td>8.692154</td>\n",
       "      <td>0</td>\n",
       "      <td>0</td>\n",
       "      <td>0</td>\n",
       "      <td>0</td>\n",
       "      <td>0</td>\n",
       "      <td>1</td>\n",
       "      <td>0</td>\n",
       "      <td>0</td>\n",
       "      <td>0</td>\n",
       "      <td>0</td>\n",
       "    </tr>\n",
       "    <tr>\n",
       "      <th>3</th>\n",
       "      <td>0</td>\n",
       "      <td>2.25</td>\n",
       "      <td>1</td>\n",
       "      <td>8.691986</td>\n",
       "      <td>0</td>\n",
       "      <td>0</td>\n",
       "      <td>0</td>\n",
       "      <td>0</td>\n",
       "      <td>1</td>\n",
       "      <td>0</td>\n",
       "      <td>0</td>\n",
       "      <td>0</td>\n",
       "      <td>1</td>\n",
       "      <td>0</td>\n",
       "    </tr>\n",
       "    <tr>\n",
       "      <th>4</th>\n",
       "      <td>0</td>\n",
       "      <td>2.33</td>\n",
       "      <td>1</td>\n",
       "      <td>8.691986</td>\n",
       "      <td>0</td>\n",
       "      <td>0</td>\n",
       "      <td>0</td>\n",
       "      <td>0</td>\n",
       "      <td>1</td>\n",
       "      <td>0</td>\n",
       "      <td>0</td>\n",
       "      <td>0</td>\n",
       "      <td>1</td>\n",
       "      <td>0</td>\n",
       "    </tr>\n",
       "    <tr>\n",
       "      <th>...</th>\n",
       "      <td>...</td>\n",
       "      <td>...</td>\n",
       "      <td>...</td>\n",
       "      <td>...</td>\n",
       "      <td>...</td>\n",
       "      <td>...</td>\n",
       "      <td>...</td>\n",
       "      <td>...</td>\n",
       "      <td>...</td>\n",
       "      <td>...</td>\n",
       "      <td>...</td>\n",
       "      <td>...</td>\n",
       "      <td>...</td>\n",
       "      <td>...</td>\n",
       "    </tr>\n",
       "    <tr>\n",
       "      <th>297087</th>\n",
       "      <td>1</td>\n",
       "      <td>10.08</td>\n",
       "      <td>49</td>\n",
       "      <td>11.145695</td>\n",
       "      <td>0</td>\n",
       "      <td>0</td>\n",
       "      <td>0</td>\n",
       "      <td>0</td>\n",
       "      <td>1</td>\n",
       "      <td>0</td>\n",
       "      <td>0</td>\n",
       "      <td>0</td>\n",
       "      <td>1</td>\n",
       "      <td>0</td>\n",
       "    </tr>\n",
       "    <tr>\n",
       "      <th>297088</th>\n",
       "      <td>1</td>\n",
       "      <td>10.42</td>\n",
       "      <td>49</td>\n",
       "      <td>11.252923</td>\n",
       "      <td>0</td>\n",
       "      <td>0</td>\n",
       "      <td>0</td>\n",
       "      <td>0</td>\n",
       "      <td>1</td>\n",
       "      <td>0</td>\n",
       "      <td>0</td>\n",
       "      <td>0</td>\n",
       "      <td>0</td>\n",
       "      <td>0</td>\n",
       "    </tr>\n",
       "    <tr>\n",
       "      <th>297089</th>\n",
       "      <td>1</td>\n",
       "      <td>13.83</td>\n",
       "      <td>49</td>\n",
       "      <td>11.278456</td>\n",
       "      <td>0</td>\n",
       "      <td>0</td>\n",
       "      <td>0</td>\n",
       "      <td>0</td>\n",
       "      <td>1</td>\n",
       "      <td>1</td>\n",
       "      <td>0</td>\n",
       "      <td>0</td>\n",
       "      <td>0</td>\n",
       "      <td>0</td>\n",
       "    </tr>\n",
       "    <tr>\n",
       "      <th>297090</th>\n",
       "      <td>1</td>\n",
       "      <td>10.00</td>\n",
       "      <td>49</td>\n",
       "      <td>11.309401</td>\n",
       "      <td>0</td>\n",
       "      <td>0</td>\n",
       "      <td>0</td>\n",
       "      <td>0</td>\n",
       "      <td>1</td>\n",
       "      <td>1</td>\n",
       "      <td>0</td>\n",
       "      <td>0</td>\n",
       "      <td>0</td>\n",
       "      <td>0</td>\n",
       "    </tr>\n",
       "    <tr>\n",
       "      <th>297091</th>\n",
       "      <td>1</td>\n",
       "      <td>10.08</td>\n",
       "      <td>49</td>\n",
       "      <td>11.309401</td>\n",
       "      <td>0</td>\n",
       "      <td>0</td>\n",
       "      <td>0</td>\n",
       "      <td>0</td>\n",
       "      <td>1</td>\n",
       "      <td>0</td>\n",
       "      <td>0</td>\n",
       "      <td>0</td>\n",
       "      <td>1</td>\n",
       "      <td>0</td>\n",
       "    </tr>\n",
       "  </tbody>\n",
       "</table>\n",
       "<p>297092 rows × 14 columns</p>\n",
       "</div>"
      ],
      "text/plain": [
       "        class  duration  days_left  log_price  airline_Air_India  \\\n",
       "0           0      2.17          1   8.691651                  0   \n",
       "1           0      2.33          1   8.691651                  0   \n",
       "2           0      2.17          1   8.692154                  0   \n",
       "3           0      2.25          1   8.691986                  0   \n",
       "4           0      2.33          1   8.691986                  0   \n",
       "...       ...       ...        ...        ...                ...   \n",
       "297087      1     10.08         49  11.145695                  0   \n",
       "297088      1     10.42         49  11.252923                  0   \n",
       "297089      1     13.83         49  11.278456                  0   \n",
       "297090      1     10.00         49  11.309401                  0   \n",
       "297091      1     10.08         49  11.309401                  0   \n",
       "\n",
       "        airline_GO_FIRST  airline_Indigo  airline_SpiceJet  airline_Vistara  \\\n",
       "0                      0               0                 1                0   \n",
       "1                      0               0                 1                0   \n",
       "2                      0               0                 0                0   \n",
       "3                      0               0                 0                1   \n",
       "4                      0               0                 0                1   \n",
       "...                  ...             ...               ...              ...   \n",
       "297087                 0               0                 0                1   \n",
       "297088                 0               0                 0                1   \n",
       "297089                 0               0                 0                1   \n",
       "297090                 0               0                 0                1   \n",
       "297091                 0               0                 0                1   \n",
       "\n",
       "        departure_time_Early_Morning  departure_time_Evening  \\\n",
       "0                                  0                       1   \n",
       "1                                  1                       0   \n",
       "2                                  1                       0   \n",
       "3                                  0                       0   \n",
       "4                                  0                       0   \n",
       "...                              ...                     ...   \n",
       "297087                             0                       0   \n",
       "297088                             0                       0   \n",
       "297089                             1                       0   \n",
       "297090                             1                       0   \n",
       "297091                             0                       0   \n",
       "\n",
       "        departure_time_Late_Night  departure_time_Morning  \\\n",
       "0                               0                       0   \n",
       "1                               0                       0   \n",
       "2                               0                       0   \n",
       "3                               0                       1   \n",
       "4                               0                       1   \n",
       "...                           ...                     ...   \n",
       "297087                          0                       1   \n",
       "297088                          0                       0   \n",
       "297089                          0                       0   \n",
       "297090                          0                       0   \n",
       "297091                          0                       1   \n",
       "\n",
       "        departure_time_Night  \n",
       "0                          0  \n",
       "1                          0  \n",
       "2                          0  \n",
       "3                          0  \n",
       "4                          0  \n",
       "...                      ...  \n",
       "297087                     0  \n",
       "297088                     0  \n",
       "297089                     0  \n",
       "297090                     0  \n",
       "297091                     0  \n",
       "\n",
       "[297092 rows x 14 columns]"
      ]
     },
     "execution_count": 518,
     "metadata": {},
     "output_type": "execute_result"
    }
   ],
   "source": [
    "df_with_dummies = pd.get_dummies(df,drop_first = True)\n",
    "df_with_dummies ### This is our finished dataset."
   ]
  },
  {
   "cell_type": "markdown",
   "id": "8c21d313",
   "metadata": {},
   "source": [
    "After creation of dummy variables, the categorical data has the following properties.\n",
    "\n",
    "For \"airline\" dummies, the respective benchmark is \"airline AirAsia\"\n",
    "\n",
    "For \"departure_time\" dummies, the respective benchmark is  \"departure_time Afternoon\"\n",
    "\n",
    "For \"class\" dummies, 0 means economy, and 1 is business."
   ]
  },
  {
   "cell_type": "markdown",
   "id": "db50adb7",
   "metadata": {},
   "source": [
    "### Independent and Dependent variables"
   ]
  },
  {
   "cell_type": "code",
   "execution_count": 519,
   "id": "92c33118",
   "metadata": {},
   "outputs": [],
   "source": [
    "X = df_with_dummies.drop(\"log_price\",axis = 1)\n",
    "y = df_with_dummies[\"log_price\"]\n"
   ]
  },
  {
   "cell_type": "markdown",
   "id": "bc1ee566",
   "metadata": {},
   "source": [
    "### Train Test Split\n",
    "\n",
    "I will split the data into 90/10 test split. I will use 90% proportion of the data with cross-validation, to train and tune the model. Then, remaining 10% will be used for test."
   ]
  },
  {
   "cell_type": "code",
   "execution_count": 520,
   "id": "ed6c30ed",
   "metadata": {},
   "outputs": [],
   "source": [
    "from sklearn.model_selection import train_test_split\n",
    "X_train, X_test, y_train, y_test = train_test_split(X, y,\n",
    "                                                   random_state = 1\n",
    "                                                   ,test_size= 0.1)"
   ]
  },
  {
   "cell_type": "markdown",
   "id": "d906c740",
   "metadata": {},
   "source": [
    "# Methods & Experiments"
   ]
  },
  {
   "cell_type": "markdown",
   "id": "c205ccd4",
   "metadata": {},
   "source": [
    "_______________________________________________________________________________________________________________________________"
   ]
  },
  {
   "cell_type": "markdown",
   "id": "8e04c300",
   "metadata": {},
   "source": [
    "# Linear Regression"
   ]
  },
  {
   "cell_type": "code",
   "execution_count": 400,
   "id": "63d053c6",
   "metadata": {},
   "outputs": [
    {
     "data": {
      "text/plain": [
       "0.8944881745910421"
      ]
     },
     "execution_count": 400,
     "metadata": {},
     "output_type": "execute_result"
    }
   ],
   "source": [
    "def LinRegCrossValidation(X,y):\n",
    "    \n",
    "    from sklearn.model_selection import cross_val_score\n",
    "    from sklearn.model_selection import train_test_split\n",
    "    from sklearn.linear_model import LinearRegression\n",
    "    X_train, X_test, y_train, y_test = train_test_split(X, y, random_state = 1, test_size= 0.1)\n",
    "    reg = LinearRegression()\n",
    "    cv_scores = cross_val_score(reg,X_train,y_train,cv = 9)\n",
    "    return cv_scores.mean()\n",
    "\n",
    "LinRegCrossValidation(X,y)"
   ]
  },
  {
   "cell_type": "markdown",
   "id": "64f13c87",
   "metadata": {},
   "source": [
    "In general, Linear Regression without any other parameters performs well on this dataset. Now let's test it"
   ]
  },
  {
   "cell_type": "code",
   "execution_count": 403,
   "id": "9913e0b8",
   "metadata": {},
   "outputs": [
    {
     "data": {
      "text/html": [
       "<div>\n",
       "<style scoped>\n",
       "    .dataframe tbody tr th:only-of-type {\n",
       "        vertical-align: middle;\n",
       "    }\n",
       "\n",
       "    .dataframe tbody tr th {\n",
       "        vertical-align: top;\n",
       "    }\n",
       "\n",
       "    .dataframe thead th {\n",
       "        text-align: right;\n",
       "    }\n",
       "</style>\n",
       "<table border=\"1\" class=\"dataframe\">\n",
       "  <thead>\n",
       "    <tr style=\"text-align: right;\">\n",
       "      <th></th>\n",
       "      <th>Features</th>\n",
       "      <th>Weights</th>\n",
       "    </tr>\n",
       "  </thead>\n",
       "  <tbody>\n",
       "    <tr>\n",
       "      <th>0</th>\n",
       "      <td>class</td>\n",
       "      <td>2.022500</td>\n",
       "    </tr>\n",
       "    <tr>\n",
       "      <th>1</th>\n",
       "      <td>duration</td>\n",
       "      <td>0.016869</td>\n",
       "    </tr>\n",
       "    <tr>\n",
       "      <th>2</th>\n",
       "      <td>days_left</td>\n",
       "      <td>-0.014301</td>\n",
       "    </tr>\n",
       "    <tr>\n",
       "      <th>3</th>\n",
       "      <td>airline_Air_India</td>\n",
       "      <td>0.431915</td>\n",
       "    </tr>\n",
       "    <tr>\n",
       "      <th>4</th>\n",
       "      <td>airline_GO_FIRST</td>\n",
       "      <td>0.382605</td>\n",
       "    </tr>\n",
       "    <tr>\n",
       "      <th>5</th>\n",
       "      <td>airline_Indigo</td>\n",
       "      <td>0.274225</td>\n",
       "    </tr>\n",
       "    <tr>\n",
       "      <th>6</th>\n",
       "      <td>airline_SpiceJet</td>\n",
       "      <td>0.349537</td>\n",
       "    </tr>\n",
       "    <tr>\n",
       "      <th>7</th>\n",
       "      <td>airline_Vistara</td>\n",
       "      <td>0.585408</td>\n",
       "    </tr>\n",
       "    <tr>\n",
       "      <th>8</th>\n",
       "      <td>departure_time_Early_Morning</td>\n",
       "      <td>-0.011404</td>\n",
       "    </tr>\n",
       "    <tr>\n",
       "      <th>9</th>\n",
       "      <td>departure_time_Evening</td>\n",
       "      <td>-0.076519</td>\n",
       "    </tr>\n",
       "    <tr>\n",
       "      <th>10</th>\n",
       "      <td>departure_time_Late_Night</td>\n",
       "      <td>-0.055251</td>\n",
       "    </tr>\n",
       "    <tr>\n",
       "      <th>11</th>\n",
       "      <td>departure_time_Morning</td>\n",
       "      <td>0.032737</td>\n",
       "    </tr>\n",
       "    <tr>\n",
       "      <th>12</th>\n",
       "      <td>departure_time_Night</td>\n",
       "      <td>-0.094595</td>\n",
       "    </tr>\n",
       "    <tr>\n",
       "      <th>13</th>\n",
       "      <td>Intercept</td>\n",
       "      <td>8.447546</td>\n",
       "    </tr>\n",
       "  </tbody>\n",
       "</table>\n",
       "</div>"
      ],
      "text/plain": [
       "                        Features   Weights\n",
       "0                          class  2.022500\n",
       "1                       duration  0.016869\n",
       "2                      days_left -0.014301\n",
       "3              airline_Air_India  0.431915\n",
       "4               airline_GO_FIRST  0.382605\n",
       "5                 airline_Indigo  0.274225\n",
       "6               airline_SpiceJet  0.349537\n",
       "7                airline_Vistara  0.585408\n",
       "8   departure_time_Early_Morning -0.011404\n",
       "9         departure_time_Evening -0.076519\n",
       "10     departure_time_Late_Night -0.055251\n",
       "11        departure_time_Morning  0.032737\n",
       "12          departure_time_Night -0.094595\n",
       "13                     Intercept  8.447546"
      ]
     },
     "metadata": {},
     "output_type": "display_data"
    },
    {
     "data": {
      "text/html": [
       "<div>\n",
       "<style scoped>\n",
       "    .dataframe tbody tr th:only-of-type {\n",
       "        vertical-align: middle;\n",
       "    }\n",
       "\n",
       "    .dataframe tbody tr th {\n",
       "        vertical-align: top;\n",
       "    }\n",
       "\n",
       "    .dataframe thead th {\n",
       "        text-align: right;\n",
       "    }\n",
       "</style>\n",
       "<table border=\"1\" class=\"dataframe\">\n",
       "  <thead>\n",
       "    <tr style=\"text-align: right;\">\n",
       "      <th></th>\n",
       "      <th>Metrics</th>\n",
       "      <th>Values</th>\n",
       "    </tr>\n",
       "  </thead>\n",
       "  <tbody>\n",
       "    <tr>\n",
       "      <th>0</th>\n",
       "      <td>r2</td>\n",
       "      <td>0.895536</td>\n",
       "    </tr>\n",
       "    <tr>\n",
       "      <th>1</th>\n",
       "      <td>adj r2</td>\n",
       "      <td>0.895490</td>\n",
       "    </tr>\n",
       "    <tr>\n",
       "      <th>2</th>\n",
       "      <td>cv-9fold score</td>\n",
       "      <td>0.894488</td>\n",
       "    </tr>\n",
       "  </tbody>\n",
       "</table>\n",
       "</div>"
      ],
      "text/plain": [
       "          Metrics    Values\n",
       "0              r2  0.895536\n",
       "1          adj r2  0.895490\n",
       "2  cv-9fold score  0.894488"
      ]
     },
     "metadata": {},
     "output_type": "display_data"
    }
   ],
   "source": [
    "def LinRegSummaryTable(X,y):\n",
    "    from sklearn.model_selection import cross_val_score\n",
    "    from sklearn.model_selection import train_test_split\n",
    "    \n",
    "    X_train, X_test, y_train, y_test = train_test_split(X, y, random_state = 1, test_size= 0.1)\n",
    "    \n",
    "    reg = LinearRegression().fit(X_train,y_train)\n",
    "    r2 = reg.score(X_test,y_test)\n",
    "    adj_r2 = 1-(1-r2)*(len(X_test)-1)/(len(X_test)-len(X_test.columns)-1) ##calculating adjusted r2\n",
    "    features = list(X.columns.values)\n",
    "    features.append(\"Intercept\")\n",
    "    vals = list(reg.coef_)\n",
    "    vals.append(reg.intercept_)\n",
    "\n",
    "    weights_summary = pd.DataFrame(features, columns = [\"Features\"])\n",
    "    weights_summary[\"Weights\"] = vals\n",
    "    display(weights_summary)\n",
    "\n",
    "    statistics =  ['r2','adj r2','cv-9fold score']\n",
    "    reg_summary = pd.DataFrame(statistics,columns=[\"Metrics\"])\n",
    "    reg_summary[\"Values\"] = [r2,adj_r2,cross_val_score(reg,X_train,y_train,cv = 9).mean()]\n",
    "    display(reg_summary)\n",
    "\n",
    "LinRegSummaryTable(X,y)"
   ]
  },
  {
   "cell_type": "markdown",
   "id": "1dd75b8c",
   "metadata": {},
   "source": [
    "### Residuals Distribution plot"
   ]
  },
  {
   "cell_type": "code",
   "execution_count": 561,
   "id": "1c8449dc",
   "metadata": {},
   "outputs": [
    {
     "data": {
      "text/plain": [
       "(0.0023716688452758684, 0.12904332747638458)"
      ]
     },
     "execution_count": 561,
     "metadata": {},
     "output_type": "execute_result"
    },
    {
     "data": {
      "image/png": "[encoded data removed]",
      "text/plain": [
       "<Figure size 360x360 with 1 Axes>"
      ]
     },
     "metadata": {},
     "output_type": "display_data"
    }
   ],
   "source": [
    "def LinRegResidualsPlot(X,y):\n",
    "    from sklearn.model_selection import cross_val_score\n",
    "    from sklearn.model_selection import train_test_split\n",
    "    \n",
    "    X_train, X_test, y_train, y_test = train_test_split(X, y, random_state = 1 ,test_size= 0.1)\n",
    "    \n",
    "    reg = LinearRegression().fit(X_train,y_train)\n",
    "    y_hat = reg.predict(X_test)\n",
    "    e = y_test-y_hat\n",
    "    sns.displot(e)\n",
    "    return (e.mean(),e.var())\n",
    "\n",
    "LinRegResidualsPlot(X,y)"
   ]
  },
  {
   "cell_type": "markdown",
   "id": "66d76a28",
   "metadata": {},
   "source": [
    "We see that residuals displot follows a normal distribution with a mean around 0. This is an indicator of a good model.\n",
    "However, right tail is slightly taller than the left one. This can be interpreted, that our model underfits the data to a very small extent. But this is very very very very small."
   ]
  },
  {
   "cell_type": "markdown",
   "id": "459ee1c2",
   "metadata": {},
   "source": [
    "### Dummy Regressor evaluation"
   ]
  },
  {
   "cell_type": "code",
   "execution_count": 408,
   "id": "d1b139a8",
   "metadata": {},
   "outputs": [
    {
     "data": {
      "text/plain": [
       "(-8.972578509069962e-07, 0.8955358794275738)"
      ]
     },
     "execution_count": 408,
     "metadata": {},
     "output_type": "execute_result"
    }
   ],
   "source": [
    "def LinRegDummyEvaluation(X,y):\n",
    "    from sklearn.model_selection import train_test_split\n",
    "    from sklearn.linear_model import LinearRegression\n",
    "    from sklearn.dummy import DummyRegressor\n",
    "    \n",
    "    \n",
    "    X_train, X_test, y_train, y_test = train_test_split(X, y, random_state = 1 ,test_size= 0.1)\n",
    "    \n",
    "    reg = LinearRegression().fit(X_train,y_train)\n",
    "    reg_dummy = DummyRegressor(strategy= \"mean\").fit(X_train,y_train)\n",
    "    reg_dummy.score(X_test,y_test)\n",
    "    return (reg_dummy.score(X_test,y_test),reg.score(X_test,y_test))\n",
    "LinRegDummyEvaluation(X,y)"
   ]
  },
  {
   "cell_type": "markdown",
   "id": "d365c44a",
   "metadata": {},
   "source": [
    "For a dummy regressor, we chose the mean strategy as a benchmark. As expected, it's R2 value is near 0. \n",
    "We assume that our model performed well on test data, since its R2 and Adj R2 are high. Moreover, by cross validation, the mean r2 value is around ~89.5, which is a good result."
   ]
  },
  {
   "cell_type": "markdown",
   "id": "ebb4ce35",
   "metadata": {},
   "source": [
    "### Discussion"
   ]
  },
  {
   "cell_type": "markdown",
   "id": "bef1ed42",
   "metadata": {},
   "source": [
    "Linear Regression is one of the simplest models can be trained, thus it is very unlikely that it will overfit the data. Also, according to the Residual analysis, our model underfits our data to a very small extent. I personally believe, that use of Ridge and Lasso Regression would not give a significant change to the test score, since they are designed to add regularization parameter to prevent overfitting, which is very unlikely in this case. Moreover, as we have 270 000 points in our training data, the regularization is not needed. Since we're using a simple Linear Model, I want to investigate, how more complex models would perform on this dataset\n"
   ]
  },
  {
   "cell_type": "markdown",
   "id": "34c69d92",
   "metadata": {},
   "source": [
    "_______________________________________________________________________________________________________________________________"
   ]
  },
  {
   "cell_type": "markdown",
   "id": "b8987f0a",
   "metadata": {},
   "source": [
    "# Polynomial Regression"
   ]
  },
  {
   "cell_type": "code",
   "execution_count": 496,
   "id": "c26a5675",
   "metadata": {},
   "outputs": [
    {
     "name": "stdout",
     "output_type": "stream",
     "text": [
      "(0.9283831088102623, 0.9283926889006723) (0.9384459384815035, 0.938258680127186)\n"
     ]
    }
   ],
   "source": [
    "def PolynomialRegression(X,y,n):\n",
    "    from sklearn.model_selection import train_test_split\n",
    "    from sklearn.preprocessing import PolynomialFeatures\n",
    "    \n",
    "\n",
    "\n",
    "    poly = PolynomialFeatures(degree=n)\n",
    "    X_poly = poly.fit_transform(X)\n",
    "    X_poly_train,X_poly_test,y_train,y_test = train_test_split(X_poly,y,random_state=1,test_size=0.2)\n",
    "    reg_poly = LinearRegression().fit(X_poly_train,y_train)\n",
    "    return (reg_poly.score(X_poly_train,y_train),reg_poly.score(X_poly_test,y_test))\n",
    "\n",
    "print(PolynomialRegression(X,y,2),PolynomialRegression(X,y,3))"
   ]
  },
  {
   "cell_type": "markdown",
   "id": "3b383385",
   "metadata": {},
   "source": [
    "With Polynomial Linear Regression of degree 2, the R2 has increased dramatically from 0.895 to 0.928 on test sample.\n",
    "\n",
    "With Polynomial Linear Regression of degree 3, the R2 is ~0.938 for both train and test samples.\n",
    "\n",
    "Note: R2 scores of Polynomial Linear Regression of degree 2 and 3 with (train,test) scores with 80/20 split"
   ]
  },
  {
   "cell_type": "code",
   "execution_count": 489,
   "id": "ad2f8242",
   "metadata": {},
   "outputs": [
    {
     "data": {
      "text/plain": [
       "(0.928267550740448,\n",
       " [array([0.92777172, 0.9284434 , 0.92807625, 0.92758464, 0.9276993 ,\n",
       "         0.9283867 , 0.92841106, 0.92848981, 0.92954508])])"
      ]
     },
     "execution_count": 489,
     "metadata": {},
     "output_type": "execute_result"
    }
   ],
   "source": [
    "def PolynomialCV(X,y,n):\n",
    "    from sklearn.model_selection import cross_val_score\n",
    "    from sklearn.model_selection import train_test_split\n",
    "    from sklearn.preprocessing import PolynomialFeatures\n",
    "    poly = PolynomialFeatures(degree=n)\n",
    "    X_poly = poly.fit_transform(X)\n",
    "    X_poly_train,X_poly_test,y_train,y_test = train_test_split(X_poly,y,random_state=1,test_size=0.1)\n",
    "    reg_poly = LinearRegression()\n",
    "    cv_scores = cross_val_score(reg,X_poly_train,y_train,cv = 9)\n",
    "    return (cv_scores.mean(),[cv_scores])\n",
    "\n",
    "PolynomialCV(X,y,2)"
   ]
  },
  {
   "cell_type": "markdown",
   "id": "21bccaf2",
   "metadata": {},
   "source": [
    "Cross-Validation score of a Polynomial Linear Regression model (9-fold) of degree 2"
   ]
  },
  {
   "cell_type": "code",
   "execution_count": 490,
   "id": "1cf57561",
   "metadata": {},
   "outputs": [
    {
     "data": {
      "text/plain": [
       "(0.9382934155158252,\n",
       " [array([0.93783224, 0.93823382, 0.93792699, 0.93767144, 0.93802898,\n",
       "         0.93846501, 0.93844399, 0.93825557, 0.9397827 ])])"
      ]
     },
     "execution_count": 490,
     "metadata": {},
     "output_type": "execute_result"
    }
   ],
   "source": [
    "PolynomialCV(X,y,3)"
   ]
  },
  {
   "cell_type": "markdown",
   "id": "6d7dc959",
   "metadata": {},
   "source": [
    "Cross-Validation score of a Polynomial Linear Regression model (9-fold) of degree 3"
   ]
  },
  {
   "cell_type": "code",
   "execution_count": 493,
   "id": "4532089d",
   "metadata": {},
   "outputs": [],
   "source": [
    "#scores = []\n",
    "#degree = np.linspace (2,10,9)\n",
    "#for n in degree:\n",
    "    #scores.append(PolynomialCV(X,y,degree))\n",
    "#scores\n",
    "    "
   ]
  },
  {
   "cell_type": "markdown",
   "id": "947ac1b1",
   "metadata": {},
   "source": [
    "### WARNING:\n",
    "Uncomment the code above for your own risk!\n",
    "These lines are computationally expensive, since we already have 13 explanatory variables. With polynomials features, their amount increases dramatically. The code above computes 9-fold cross validations for the polynomial linear regressions with degrees from 2 to 10."
   ]
  },
  {
   "cell_type": "markdown",
   "id": "d0532bbc",
   "metadata": {},
   "source": [
    "### Residual Analysis"
   ]
  },
  {
   "cell_type": "code",
   "execution_count": 559,
   "id": "814f59d7",
   "metadata": {},
   "outputs": [],
   "source": [
    "def PolynomialResidualsPlot(X,y,n):\n",
    "    from sklearn.model_selection import cross_val_score\n",
    "    from sklearn.model_selection import train_test_split\n",
    "    \n",
    "    from sklearn.model_selection import cross_val_score\n",
    "    from sklearn.model_selection import train_test_split\n",
    "    from sklearn.preprocessing import PolynomialFeatures\n",
    "        \n",
    "    poly = PolynomialFeatures(degree=n)\n",
    "    X_poly = poly.fit_transform(X)\n",
    "    X_poly_train,X_poly_test,y_train,y_test = train_test_split(X_poly,y,random_state=1,test_size=0.2)\n",
    "    reg_poly = LinearRegression().fit(X_poly_train,y_train)\n",
    "    \n",
    "    y_hat = reg_poly.predict(X_poly_test)\n",
    "    e = y_test-y_hat\n",
    "    sns.displot(e)\n",
    "    return (e.mean(),e.var())\n",
    "\n"
   ]
  },
  {
   "cell_type": "code",
   "execution_count": 560,
   "id": "0d90f5ad",
   "metadata": {},
   "outputs": [
    {
     "data": {
      "text/plain": [
       "((0.0010776448773123647, 0.0883624264178882),\n",
       " (0.0021391569736483314, 0.0761843556608724))"
      ]
     },
     "execution_count": 560,
     "metadata": {},
     "output_type": "execute_result"
    },
    {
     "data": {
      "image/png": "[encoded data removed]",
      "text/plain": [
       "<Figure size 360x360 with 1 Axes>"
      ]
     },
     "metadata": {},
     "output_type": "display_data"
    },
    {
     "data": {
      "image/png": "[encoded data removed]",
      "text/plain": [
       "<Figure size 360x360 with 1 Axes>"
      ]
     },
     "metadata": {},
     "output_type": "display_data"
    }
   ],
   "source": [
    "(PolynomialResidualsPlot(X,y,2),PolynomialResidualsPlot(X,y,3))"
   ]
  },
  {
   "cell_type": "markdown",
   "id": "68fccb22",
   "metadata": {},
   "source": [
    "_______________________________________________________________________________________________________________________________"
   ]
  },
  {
   "cell_type": "markdown",
   "id": "60f354f2",
   "metadata": {},
   "source": [
    "# Random Forests"
   ]
  },
  {
   "cell_type": "code",
   "execution_count": 615,
   "id": "329e64ff",
   "metadata": {},
   "outputs": [
    {
     "data": {
      "text/plain": [
       "(0.9804634854896344, 0.9499072996126644)"
      ]
     },
     "execution_count": 615,
     "metadata": {},
     "output_type": "execute_result"
    }
   ],
   "source": [
    "def RandomForestReg(X,y,n):\n",
    "    from sklearn.model_selection import train_test_split    \n",
    "    from sklearn.ensemble import RandomForestRegressor\n",
    "    \n",
    "    X_train, X_test, y_train, y_test = train_test_split(X, y, random_state = 1 ,test_size= 0.1)\n",
    "    \n",
    "    reg_forest = RandomForestRegressor(n_jobs= -1,n_estimators = n).fit(X_train,y_train)\n",
    "    return (reg_forest.score(X_train,y_train),reg_forest.score(X_test,y_test))\n",
    "RandomForestReg(X,y,100)\n"
   ]
  },
  {
   "cell_type": "markdown",
   "id": "969c1264",
   "metadata": {},
   "source": [
    "Quite impressive train and test score. Now we perform cross-validation to validate the model."
   ]
  },
  {
   "cell_type": "code",
   "execution_count": 618,
   "id": "3bc1d331",
   "metadata": {
    "scrolled": true
   },
   "outputs": [
    {
     "data": {
      "image/png": "[encoded data removed]",
      "text/plain": [
       "<Figure size 842.4x595.44 with 1 Axes>"
      ]
     },
     "metadata": {},
     "output_type": "display_data"
    },
    {
     "data": {
      "text/plain": [
       "(array([[0.97404466, 0.97447993, 0.97131357, 0.91559559],\n",
       "        [0.98309422, 0.98379081, 0.98153967, 0.94396058],\n",
       "        [0.98421566, 0.98497968, 0.98279824, 0.9474402 ],\n",
       "        [0.98509255, 0.98589619, 0.98381342, 0.95022262],\n",
       "        [0.98520933, 0.98600414, 0.98394349, 0.950557  ]]),\n",
       " array([[0.42175013, 0.41297339, 0.8866866 , 0.08740283],\n",
       "        [0.5220292 , 0.51879189, 0.90426716, 0.2205411 ],\n",
       "        [0.53394865, 0.53398673, 0.90618184, 0.220769  ],\n",
       "        [0.54234652, 0.54759954, 0.90794919, 0.2399811 ],\n",
       "        [0.54409607, 0.54858089, 0.90832797, 0.23988024]]))"
      ]
     },
     "execution_count": 618,
     "metadata": {},
     "output_type": "execute_result"
    }
   ],
   "source": [
    "def RandomForestCV(X,y):\n",
    "    from sklearn.model_selection import validation_curve\n",
    "    from sklearn.ensemble import RandomForestRegressor\n",
    "    \n",
    "    param_range = [1,5,10,50,100]\n",
    "    train_scores, test_scores = validation_curve(\n",
    "        RandomForestRegressor(),\n",
    "        X, y, param_name = \"n_estimators\",\n",
    "        param_range=param_range,\n",
    "        cv = 4,\n",
    "        n_jobs = -1)\n",
    "    train_scores_mean = np.mean(train_scores, axis=1)\n",
    "    train_scores_std = np.std(train_scores, axis=1)\n",
    "    test_scores_mean = np.mean(test_scores, axis=1)\n",
    "    test_scores_std = np.std(test_scores, axis=1)\n",
    "\n",
    "    plt.title(\"Validation Curve with Random forests\")\n",
    "    plt.xlabel(\"n_trees\")\n",
    "    plt.ylabel(\"Score\")\n",
    "    lw = 2\n",
    "    plt.semilogx(\n",
    "        param_range, train_scores_mean, label=\"Training score\", color=\"darkorange\", lw=lw)\n",
    "    plt.fill_between(\n",
    "        param_range,\n",
    "        train_scores_mean - train_scores_std,\n",
    "        train_scores_mean + train_scores_std,\n",
    "        alpha=0.2,\n",
    "        color=\"darkorange\",\n",
    "        lw=lw,\n",
    "    )\n",
    "    plt.semilogx(\n",
    "        param_range, test_scores_mean, label=\"Cross-validation score\", color=\"navy\", lw=lw\n",
    "    )\n",
    "    plt.fill_between(\n",
    "        param_range,\n",
    "        test_scores_mean - test_scores_std,\n",
    "        test_scores_mean + test_scores_std,\n",
    "        alpha=0.2,\n",
    "        color=\"navy\",\n",
    "        lw=lw,\n",
    "    )\n",
    "    plt.legend(loc=\"best\")\n",
    "    plt.show()\n",
    "    return (train_scores,test_scores)\n",
    "RandomForestCV(X,y)"
   ]
  },
  {
   "cell_type": "markdown",
   "id": "0a57ef5f",
   "metadata": {},
   "source": [
    "What a poor performance. There is a clear evidence of overfitting the model, since the training accuracy is about 1, while test performance is very low. The reason of this poor performance will be discussed in the error analysis section"
   ]
  },
  {
   "cell_type": "markdown",
   "id": "4953e097",
   "metadata": {},
   "source": [
    "# Analysis & Error propogation"
   ]
  },
  {
   "cell_type": "markdown",
   "id": "137e9782",
   "metadata": {},
   "source": [
    "## Linear Regression"
   ]
  },
  {
   "cell_type": "markdown",
   "id": "3f1213c0",
   "metadata": {},
   "source": [
    "Linear Regression is one of the quickest, computationally fastest and simplest models available in the hands of a Data-Scientist. In my 1-st part of this project I have highlighted that the Ceteris Paribus effects of several variables to some extent follow a linear model, which was nearly approximate to the local regression plot I have presented there. In this dataset, with a nearly 270 000 points of training data, I believe, that linear model showed a good performance.\n",
    "\n",
    "From the summary table I have generated below the regression model, we may draw several conclusions on the effect of the variables on the price of the ticket, and they will be discussed in the discussion part.\n",
    "\n",
    "Talking about model performance itself, I consider a adj_R2 value of ~0.895 quite impressive considering model's mathematical and computational simplicity. This result is supported by 9-fold cross validation on a test-sample, with averate ~0.894 R2 value.\n",
    "\n",
    "The imperfectness of the model may be caused by the variabe \"duration\" and \"time left\" which I believe, has a polynomial effect on the price, since the relationship between 'price' and 'duration' was not linear in project-1.\n",
    "\n",
    "Finally, I believe, that Linear Model slightly underfits the data, since in the distribution of residuals I have found that there is a slightly taller right tail, which means more of the estimated targets were lower that the actual ones, in comparison to the overestimated ones. But this underfitting is very small, since residuals visually looks like a bell-shaped figure.\n",
    "\n",
    "I would suggest using Shapiro's test to check it.\n",
    "\n",
    "### Error Propogation\n",
    "\n",
    "Since there are possible varialbes with non-linear relationship with target variable, it caused decrease in the performance of the model. Additionally, there is no need in the regularization parameters, since the amount of observations in the dataset is enough to use parameters without regularization.\n"
   ]
  },
  {
   "cell_type": "markdown",
   "id": "c6a6f2be",
   "metadata": {},
   "source": [
    "## Polynomial Regression"
   ]
  },
  {
   "cell_type": "markdown",
   "id": "13a8742c",
   "metadata": {},
   "source": [
    "In order to support my hypothesis from the Linear Model, that some variables (most likely \"duration\" and \"time left\") do have non-linear relationship with the target variable. After performing model training on a 2-degree polynomial features, we have found that it's mean R2 value increased up to ~0.928 in a 9-fold cross-validation on a train sample. Calculating score of a test sample performance, it is roughly the same as in the training set. I believe, that the polynomial regression explains most of the data even better, if not the most. \n",
    "\n",
    "Additionally, I have checked scores for the degree-3 polynomial regression, and obtained a 0.01 increase in the 9-fold validation score. I assume, that 2-4 degree polynomial features would imply the best performance of the model, however, I could not test 4-degree polynomial, as it's computational costs would be to high.\n",
    "\n",
    "In my opinion, 2-degree polynomial would be the best option, considering huge increase in computational time, vs small increase in precision. So with 2-degree polynomial feauteres, I can obtain high accuracy, while maintaining a good generalization power with computing time.\n",
    "\n",
    "### Error propogation\n",
    "\n",
    "In order, to tune the model better, more computational power is needed. There is a possibility of higher degrees of polynomial features which could leave to a better results. Moreover, another approach should be tested, where in the polynomial features should be conitnuous variables only (excluding dummies, categoricals, applying polynomial features transform and including them back in the data set). I believe, this might improve the performance of the model, however, in this case it also may lead into overfitting problem. The problem of overfitting may be overcomed by combining high-degree polynomial features with Ridge/Lasso regression regularization parameters. To conclude, this approach may achieve even more higher performances, but the computational time may increase significantly too.\n",
    "\n",
    "To conclude, I am satisfied with the results of 2-degree polynomial features regression since it is computationally cheaper, than higher degrees polynomial features. Also, it maintains the simplicity and generality of the model, while achieving high scores in cross-validation and on test sample. Nevetheless, I believe, that there is a space for improvement of this model."
   ]
  },
  {
   "cell_type": "markdown",
   "id": "7f98036d",
   "metadata": {},
   "source": [
    "## Random Forests"
   ]
  },
  {
   "cell_type": "markdown",
   "id": "de9cff6f",
   "metadata": {},
   "source": [
    "It can be seen, that upon cross-validation, Random Forests performs the most poor on this dataset. Cross-Validation of this model has shown a clear evidence of over-fitting, with a high train set performance, and very poor on a test set performance. \n",
    "\n",
    "\n",
    "### Error propogation\n",
    "According to the (https://medium.com/swlh/random-forest-fails-a8ca2d46c312#:~:text=Since%20the%20random%20forest%20is,Sparse%20Datasets%20(Zero%20Values)), Random forests perform poor on the two types of datasets:\n",
    "1) Datasets with linear relationship (Extrapolation Problem)\n",
    "\n",
    "2) Datasets with a lot of zeros (Sparse Datasets)\n",
    "\n",
    "I believe, that in the dataset I obtained, there are some linear relationships, and also, since I added a lot of dummies in the model, the presence of zeros in the dataset has made a destructive effect on the performance of the Random forests.\n",
    "\n",
    "In order, to overcome this problem, I would suggest trying splitting the filter entire dataset with categorical variables, so the remaining dependent variables are duration of the flight and time_left variables only (continuous ones). And then trying to run Random Forests Regression on these datasets, recieving a lot of models which should perform well.\n",
    "\n",
    "Nevertheless, in my opinion, Random Forests Regression is not a great option on this dataset due to its computational complexity. It has already been shown, that for lower values of n_trees the models performs the worst, however, in case model performs well in the filtered samples of the original dataset with low n_trees, it can be used for the regression. Still, I believe, that linear regression with polynomial features of degrees 2 performed the best both in score and computational time while showing no evidence of overfitting.\n"
   ]
  },
  {
   "cell_type": "markdown",
   "id": "8c9fea61",
   "metadata": {},
   "source": [
    "# Discussion"
   ]
  },
  {
   "cell_type": "markdown",
   "id": "1443584b",
   "metadata": {},
   "source": [
    "Having trained, evaluated and tested three models, I can conclude, that the 2nd model (Linear Regression with polynomial features) performed the best on this data set, as it has good computational time, keeps generality, shows no evidence of overfitting and shows high performance score on the test data set. As a measure of precaution, I have written entire project in the functions, so there is no any data-leakege between the models, since most of the variable names kept the same. Initial analysis of the Variance Inflation Factor allowed me to drop unnecessary variables, while outliers detection helped me to drop outliers which could affect both linear and polynomial regression. As the result, I have obtained results with good performance of models 1 and 2, except for the Random Trees Regression. In the case of Random Trees Regression model, I was suprised, that it could perform so poor, so I am thankful, that I faced this case scenario, as I would not have known it.\n",
    "\n",
    "Another part of the discussion, is the results interpretation. Since in polynomial i lost a track of variables due to the existence of dummies, I could not interpret the coefficients. In order to have an interpretation of the coefficients, it would be great to work detect which coefficients were multiplied to which, so at the end of the day, there will be information about coefficients and they would be interpretable.\n",
    "\n",
    "In case of Random Forests, the results are uninterpretable.\n",
    "\n",
    "In case of the linear model, we have recieved the following results:"
   ]
  },
  {
   "cell_type": "code",
   "execution_count": 621,
   "id": "352d3263",
   "metadata": {},
   "outputs": [
    {
     "data": {
      "text/html": [
       "<div>\n",
       "<style scoped>\n",
       "    .dataframe tbody tr th:only-of-type {\n",
       "        vertical-align: middle;\n",
       "    }\n",
       "\n",
       "    .dataframe tbody tr th {\n",
       "        vertical-align: top;\n",
       "    }\n",
       "\n",
       "    .dataframe thead th {\n",
       "        text-align: right;\n",
       "    }\n",
       "</style>\n",
       "<table border=\"1\" class=\"dataframe\">\n",
       "  <thead>\n",
       "    <tr style=\"text-align: right;\">\n",
       "      <th></th>\n",
       "      <th>Features</th>\n",
       "      <th>Weights</th>\n",
       "    </tr>\n",
       "  </thead>\n",
       "  <tbody>\n",
       "    <tr>\n",
       "      <th>0</th>\n",
       "      <td>class</td>\n",
       "      <td>2.022500</td>\n",
       "    </tr>\n",
       "    <tr>\n",
       "      <th>1</th>\n",
       "      <td>duration</td>\n",
       "      <td>0.016869</td>\n",
       "    </tr>\n",
       "    <tr>\n",
       "      <th>2</th>\n",
       "      <td>days_left</td>\n",
       "      <td>-0.014301</td>\n",
       "    </tr>\n",
       "    <tr>\n",
       "      <th>3</th>\n",
       "      <td>airline_Air_India</td>\n",
       "      <td>0.431915</td>\n",
       "    </tr>\n",
       "    <tr>\n",
       "      <th>4</th>\n",
       "      <td>airline_GO_FIRST</td>\n",
       "      <td>0.382605</td>\n",
       "    </tr>\n",
       "    <tr>\n",
       "      <th>5</th>\n",
       "      <td>airline_Indigo</td>\n",
       "      <td>0.274225</td>\n",
       "    </tr>\n",
       "    <tr>\n",
       "      <th>6</th>\n",
       "      <td>airline_SpiceJet</td>\n",
       "      <td>0.349537</td>\n",
       "    </tr>\n",
       "    <tr>\n",
       "      <th>7</th>\n",
       "      <td>airline_Vistara</td>\n",
       "      <td>0.585408</td>\n",
       "    </tr>\n",
       "    <tr>\n",
       "      <th>8</th>\n",
       "      <td>departure_time_Early_Morning</td>\n",
       "      <td>-0.011404</td>\n",
       "    </tr>\n",
       "    <tr>\n",
       "      <th>9</th>\n",
       "      <td>departure_time_Evening</td>\n",
       "      <td>-0.076519</td>\n",
       "    </tr>\n",
       "    <tr>\n",
       "      <th>10</th>\n",
       "      <td>departure_time_Late_Night</td>\n",
       "      <td>-0.055251</td>\n",
       "    </tr>\n",
       "    <tr>\n",
       "      <th>11</th>\n",
       "      <td>departure_time_Morning</td>\n",
       "      <td>0.032737</td>\n",
       "    </tr>\n",
       "    <tr>\n",
       "      <th>12</th>\n",
       "      <td>departure_time_Night</td>\n",
       "      <td>-0.094595</td>\n",
       "    </tr>\n",
       "    <tr>\n",
       "      <th>13</th>\n",
       "      <td>Intercept</td>\n",
       "      <td>8.447546</td>\n",
       "    </tr>\n",
       "  </tbody>\n",
       "</table>\n",
       "</div>"
      ],
      "text/plain": [
       "                        Features   Weights\n",
       "0                          class  2.022500\n",
       "1                       duration  0.016869\n",
       "2                      days_left -0.014301\n",
       "3              airline_Air_India  0.431915\n",
       "4               airline_GO_FIRST  0.382605\n",
       "5                 airline_Indigo  0.274225\n",
       "6               airline_SpiceJet  0.349537\n",
       "7                airline_Vistara  0.585408\n",
       "8   departure_time_Early_Morning -0.011404\n",
       "9         departure_time_Evening -0.076519\n",
       "10     departure_time_Late_Night -0.055251\n",
       "11        departure_time_Morning  0.032737\n",
       "12          departure_time_Night -0.094595\n",
       "13                     Intercept  8.447546"
      ]
     },
     "metadata": {},
     "output_type": "display_data"
    },
    {
     "data": {
      "text/html": [
       "<div>\n",
       "<style scoped>\n",
       "    .dataframe tbody tr th:only-of-type {\n",
       "        vertical-align: middle;\n",
       "    }\n",
       "\n",
       "    .dataframe tbody tr th {\n",
       "        vertical-align: top;\n",
       "    }\n",
       "\n",
       "    .dataframe thead th {\n",
       "        text-align: right;\n",
       "    }\n",
       "</style>\n",
       "<table border=\"1\" class=\"dataframe\">\n",
       "  <thead>\n",
       "    <tr style=\"text-align: right;\">\n",
       "      <th></th>\n",
       "      <th>Metrics</th>\n",
       "      <th>Values</th>\n",
       "    </tr>\n",
       "  </thead>\n",
       "  <tbody>\n",
       "    <tr>\n",
       "      <th>0</th>\n",
       "      <td>r2</td>\n",
       "      <td>0.895536</td>\n",
       "    </tr>\n",
       "    <tr>\n",
       "      <th>1</th>\n",
       "      <td>adj r2</td>\n",
       "      <td>0.895490</td>\n",
       "    </tr>\n",
       "    <tr>\n",
       "      <th>2</th>\n",
       "      <td>cv-9fold score</td>\n",
       "      <td>0.894488</td>\n",
       "    </tr>\n",
       "  </tbody>\n",
       "</table>\n",
       "</div>"
      ],
      "text/plain": [
       "          Metrics    Values\n",
       "0              r2  0.895536\n",
       "1          adj r2  0.895490\n",
       "2  cv-9fold score  0.894488"
      ]
     },
     "metadata": {},
     "output_type": "display_data"
    }
   ],
   "source": [
    "LinRegSummaryTable(X,y)"
   ]
  },
  {
   "cell_type": "markdown",
   "id": "321912e9",
   "metadata": {},
   "source": [
    "Since we had a log transform on our target value, we will interpret our results in the following way:\n",
    "\n",
    "Being in a Business class increases price of the ticket by 202.25%\n",
    "\n",
    "For each hour of duration of the flight increases price of the ticket by 1.68%\n",
    "\n",
    "Each day closer to the flight increases price of the ticket by 1.43%\n",
    "\n",
    "Now speaking about categorical variables, recall that: \n",
    "\n",
    "For \"airline\" dummies, the respective benchmark is \"airline AirAsia\"\n",
    "\n",
    "For \"departure_time\" dummies, the respective benchmark is \"departure_time Afternoon\"\n",
    "\n",
    "For \"class\" dummies, 0 means economy, and 1 is business.\n",
    "\n",
    "So we may say, that in general, Air India is 43.19% more expensive than Air Asia\n",
    "\n",
    "GO_First is 38.26% more expensive than Air Asia\n",
    "\n",
    "Indigo is 27.42% more expensive than Air Asia\n",
    "\n",
    "SpiceJet is 34.95% more expensive than Air Asia\n",
    "\n",
    "and Vistara is 59.5% more expensive than Air Asia.\n",
    "\n",
    "There is a possibility that both Air India and Vista have slightly overestimated coefficients, since there were samples with high prices from Business class, since I have not included them in VIF calculation, they might have some multicollinearity.\n",
    "\n",
    "Speaking about departure time, it is the most cheap to fly during the Night, and the most expensive to fly during the morning."
   ]
  },
  {
   "cell_type": "markdown",
   "id": "39380799",
   "metadata": {},
   "source": [
    "# Conclusion"
   ]
  },
  {
   "cell_type": "markdown",
   "id": "eaf21051",
   "metadata": {},
   "source": [
    "In this project I have cleaned and preprocessed data,by removing all of the variables with multicollinearity, removing outliers, creating dummies and performing log transform to a price. After, I have trained, validated and tested three models, and checked their performance with the statistical metrics and residual analysis. It has been found that the best model is Linear Regression with 2-degree polynomial features, as It gives the best balance of computational time, model complexity and  prediction power. In the analysis section I have analyzed all of the results, and reasons why I obtained such results. It has been found, that due to the nature of the data, Random Forest Regression model performs very poorly. Nevertheless, there are still approaches can be made, to improve performances of both Linear Regression models with Polynomial Features and Random Forests regression model. These improvements lies out of the scope of the project, since the desirable amount of accuracy of a model has been found in the 2nd model. All of the results were discussed, all of the methodology and experiments are included in the corresponding section. All of the models were evaluated with different functions with local variables to prevent data leakage. Overall, I can conclude that the project was successfull, and some interesting inferences can be drawn from the results of the Linear model. "
   ]
  }
 ],
 "metadata": {
  "kernelspec": {
   "display_name": "Python 3 (ipykernel)",
   "language": "python",
   "name": "python3"
  },
  "language_info": {
   "codemirror_mode": {
    "name": "ipython",
    "version": 3
   },
   "file_extension": ".py",
   "mimetype": "text/x-python",
   "name": "python",
   "nbconvert_exporter": "python",
   "pygments_lexer": "ipython3",
   "version": "3.9.7"
  }
 },
 "nbformat": 4,
 "nbformat_minor": 5
}
